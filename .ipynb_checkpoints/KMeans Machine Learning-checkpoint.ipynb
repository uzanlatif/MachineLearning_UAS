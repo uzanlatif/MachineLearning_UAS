{
 "cells": [
  {
   "cell_type": "code",
   "execution_count": 73,
   "id": "16194744",
   "metadata": {},
   "outputs": [],
   "source": [
    " #import libraries\n",
    "import pandas as pd\n",
    "import numpy as np\n",
    "import matplotlib.pyplot as plt\n",
    "from sklearn.datasets import make_blobs"
   ]
  },
  {
   "cell_type": "code",
   "execution_count": 74,
   "id": "373e5a4a",
   "metadata": {},
   "outputs": [],
   "source": [
    "datapat = pd.read_csv(\"DataPATSmaN1.csv\",sep=\";\")\n",
    "datapat.keys()\n",
    "\n",
    "newdata = datapat.iloc[:,[8,16,17,18]]\n",
    "\n",
    "X = np.asarray(newdata)"
   ]
  },
  {
   "cell_type": "code",
   "execution_count": 75,
   "id": "c1763f4c",
   "metadata": {},
   "outputs": [
    {
     "name": "stdout",
     "output_type": "stream",
     "text": [
      "     Matematika Wajib /Umum  Fisika (MIPA) / Geografi (IPS)  \\\n",
      "0                        83                              87   \n",
      "1                        93                              83   \n",
      "2                       100                              90   \n",
      "3                       100                              80   \n",
      "4                        97                              87   \n",
      "..                      ...                             ...   \n",
      "246                      87                              87   \n",
      "247                      70                              77   \n",
      "248                     100                              97   \n",
      "249                      97                              83   \n",
      "250                      80                              67   \n",
      "\n",
      "     Biologi (MIPA) / Ekonomi (IPS)  Kimia (MIPA) / Sosiologi (IPS)  \n",
      "0                                93                              80  \n",
      "1                                83                              77  \n",
      "2                                93                              83  \n",
      "3                                87                              77  \n",
      "4                                87                              87  \n",
      "..                              ...                             ...  \n",
      "246                              83                              90  \n",
      "247                              77                              77  \n",
      "248                              90                              97  \n",
      "249                              80                              73  \n",
      "250                              70                              77  \n",
      "\n",
      "[251 rows x 4 columns]\n",
      "[[ 83  87  93  80]\n",
      " [ 93  83  83  77]\n",
      " [100  90  93  83]\n",
      " ...\n",
      " [100  97  90  97]\n",
      " [ 97  83  80  73]\n",
      " [ 80  67  70  77]]\n"
     ]
    }
   ],
   "source": [
    "print(newdata)\n",
    "print(X)"
   ]
  },
  {
   "cell_type": "code",
   "execution_count": 76,
   "id": "b5d67ed1",
   "metadata": {},
   "outputs": [
    {
     "data": {
      "image/png": "[encoded data removed]",
      "text/plain": [
       "<Figure size 432x288 with 1 Axes>"
      ]
     },
     "metadata": {
      "needs_background": "light"
     },
     "output_type": "display_data"
    }
   ],
   "source": [
    "#import kmeans\n",
    "from sklearn.cluster import KMeans \n",
    "wcss = []\n",
    "for i in range (1,11):\n",
    "    kmeans = KMeans(n_clusters = i , init =\"k-means++\", random_state = 42)\n",
    "    kmeans.fit(X)\n",
    "    wcss.append(kmeans.inertia_)\n",
    "plt.plot(range (1,11),wcss)\n",
    "plt.title(\"Metode Elbow\")\n",
    "plt.xlabel(\"Jumlah Cluster\")\n",
    "plt.ylabel(\"WCSS\")\n",
    "plt.show()\n"
   ]
  },
  {
   "cell_type": "code",
   "execution_count": 77,
   "id": "42e5b30e",
   "metadata": {},
   "outputs": [
    {
     "data": {
      "text/plain": [
       "KMeans(n_clusters=2)"
      ]
     },
     "execution_count": 77,
     "metadata": {},
     "output_type": "execute_result"
    }
   ],
   "source": [
    "#create kmeans objects\n",
    "kmeans = KMeans(n_clusters=2)\n",
    "kmeans.fit(X)"
   ]
  },
  {
   "cell_type": "code",
   "execution_count": 78,
   "id": "b0e81e70",
   "metadata": {},
   "outputs": [
    {
     "name": "stdout",
     "output_type": "stream",
     "text": [
      "Nilai Centroid = \n",
      " Matematika    Fis/Geo    Bio/Eko    Kimia/Sos\n",
      " [[71.55357143 75.46428571 64.03571429 72.83928571]\n",
      " [94.99487179 86.46153846 84.48205128 79.67692308]]\n"
     ]
    }
   ],
   "source": [
    "print(\"Nilai Centroid = \\n\", \"Matematika    Fis/Geo    Bio/Eko    Kimia/Sos\\n\" , kmeans.cluster_centers_)\n"
   ]
  },
  {
   "cell_type": "code",
   "execution_count": 83,
   "id": "c8dffcbf",
   "metadata": {},
   "outputs": [
    {
     "data": {
      "text/plain": [
       "<matplotlib.collections.PathCollection at 0x1e9b8253f40>"
      ]
     },
     "execution_count": 83,
     "metadata": {},
     "output_type": "execute_result"
    },
    {
     "data": {
      "image/png": "[encoded data removed]",
      "text/plain": [
       "<Figure size 432x288 with 1 Axes>"
      ]
     },
     "metadata": {
      "needs_background": "light"
     },
     "output_type": "display_data"
    }
   ],
   "source": [
    "plt.title(\"Cluster Nilai Siswa\")\n",
    "\n",
    "plt.scatter(X[:,0],X[:,1], c=kmeans.labels_,cmap=\"rainbow\", label=\"cluster1\")\n",
    "plt.scatter(kmeans.cluster_centers_[:,0],kmeans.cluster_centers_[:,1],color=\"black\", marker=\"*\",s=200)\n"
   ]
  },
  {
   "cell_type": "code",
   "execution_count": 66,
   "id": "2d501a28",
   "metadata": {},
   "outputs": [
    {
     "name": "stdout",
     "output_type": "stream",
     "text": [
      "[array([[ 83,  87,  93,  80],\n",
      "       [ 93,  83,  83,  77],\n",
      "       [100,  90,  93,  83],\n",
      "       ...,\n",
      "       [100,  97,  90,  97],\n",
      "       [ 97,  83,  80,  73],\n",
      "       [ 80,  67,  70,  77]], dtype=int64), array([[71.55357143, 75.46428571, 64.03571429, 72.83928571],\n",
      "       [94.99487179, 86.46153846, 84.48205128, 79.67692308]])]\n"
     ]
    }
   ],
   "source": [
    "outputdata=[X,kmeans.cluster_centers_]\n",
    "print(outputdata)"
   ]
  },
  {
   "cell_type": "code",
   "execution_count": null,
   "id": "e32d129b",
   "metadata": {},
   "outputs": [],
   "source": []
  },
  {
   "cell_type": "code",
   "execution_count": null,
   "id": "76dd2672",
   "metadata": {},
   "outputs": [],
   "source": []
  },
  {
   "cell_type": "code",
   "execution_count": null,
   "id": "bbeed323",
   "metadata": {},
   "outputs": [],
   "source": []
  },
  {
   "cell_type": "code",
   "execution_count": null,
   "id": "383e61ea",
   "metadata": {},
   "outputs": [],
   "source": []
  },
  {
   "cell_type": "code",
   "execution_count": null,
   "id": "9eccaa1f",
   "metadata": {},
   "outputs": [],
   "source": []
  }
 ],
 "metadata": {
  "kernelspec": {
   "display_name": "Python 3 (ipykernel)",
   "language": "python",
   "name": "python3"
  },
  "language_info": {
   "codemirror_mode": {
    "name": "ipython",
    "version": 3
   },
   "file_extension": ".py",
   "mimetype": "text/x-python",
   "name": "python",
   "nbconvert_exporter": "python",
   "pygments_lexer": "ipython3",
   "version": "3.9.4"
  }
 },
 "nbformat": 4,
 "nbformat_minor": 5
}
